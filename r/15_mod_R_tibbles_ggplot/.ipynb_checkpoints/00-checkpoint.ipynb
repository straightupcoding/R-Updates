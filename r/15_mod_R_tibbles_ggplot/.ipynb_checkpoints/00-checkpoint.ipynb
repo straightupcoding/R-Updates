{
 "cells": [
  {
   "cell_type": "markdown",
   "metadata": {},
   "source": [
    "Data Science Fundamentals: R |\n",
    "[Table of Contents](../index.ipynb)\n",
    "- - - \n",
    "<!--NAVIGATION-->\n",
    "Module 15. [tidyverse](./00.ipynb) | [R Markdown](./01.ipynb) | [R + Shiny App](./02.ipynb) | [Basic Visualization](./03.ipynb) | [Tibbles](./04.ipynb)  | [ggplot2](./05.ipynb) | [Statistical Transformations](./06.ipynb) | [Exercises](./07.ipynb)"
   ]
  },
  {
   "cell_type": "markdown",
   "metadata": {},
   "source": [
    "# [tidyverse](https://www.tidyverse.org/)"
   ]
  },
  {
   "cell_type": "markdown",
   "metadata": {},
   "source": [
    "![tidyverse](images/slides1.png)"
   ]
  },
  {
   "cell_type": "code",
   "execution_count": 9,
   "metadata": {},
   "outputs": [
    {
     "name": "stderr",
     "output_type": "stream",
     "text": [
      "also installing the dependencies 'xfun', 'tinytex', 'rmarkdown', 'jsonlite', 'reprex'\n",
      "\n"
     ]
    },
    {
     "name": "stdout",
     "output_type": "stream",
     "text": [
      "\n",
      "  There are binary versions available but the source versions are later:\n",
      "          binary source needs_compilation\n",
      "xfun        0.22   0.26              TRUE\n",
      "tinytex     0.31   0.34             FALSE\n",
      "rmarkdown    2.8   2.11             FALSE\n",
      "reprex     2.0.0  2.0.1             FALSE\n",
      "\n",
      "  Binaries will be installed\n",
      "package 'xfun' successfully unpacked and MD5 sums checked\n",
      "package 'jsonlite' successfully unpacked and MD5 sums checked\n"
     ]
    },
    {
     "name": "stderr",
     "output_type": "stream",
     "text": [
      "Warning message:\n",
      "\"cannot remove prior installation of package 'jsonlite'\"Warning message in file.copy(savedcopy, lib, recursive = TRUE):\n",
      "\"problem copying C:\\Users\\aguan\\anaconda3\\Lib\\R\\library\\00LOCK\\jsonlite\\libs\\x64\\jsonlite.dll to C:\\Users\\aguan\\anaconda3\\Lib\\R\\library\\jsonlite\\libs\\x64\\jsonlite.dll: Permission denied\"Warning message:\n",
      "\"restored 'jsonlite'\""
     ]
    },
    {
     "name": "stdout",
     "output_type": "stream",
     "text": [
      "package 'tidyverse' successfully unpacked and MD5 sums checked\n",
      "\n",
      "The downloaded binary packages are in\n",
      "\tC:\\Users\\aguan\\AppData\\Local\\Temp\\RtmpGi3pj7\\downloaded_packages\n"
     ]
    },
    {
     "name": "stderr",
     "output_type": "stream",
     "text": [
      "installing the source packages 'tinytex', 'rmarkdown', 'reprex'\n",
      "\n",
      "Warning message in install.packages(\"tidyverse\"):\n",
      "\"installation of package 'tinytex' had non-zero exit status\"Warning message in install.packages(\"tidyverse\"):\n",
      "\"installation of package 'rmarkdown' had non-zero exit status\"Warning message in install.packages(\"tidyverse\"):\n",
      "\"installation of package 'reprex' had non-zero exit status\""
     ]
    }
   ],
   "source": [
    "#Install tidyverse if you have not already done so.\n",
    "install.packages(\"tidyverse\")"
   ]
  },
  {
   "cell_type": "markdown",
   "metadata": {},
   "source": [
    "![tidyverse](images/slides2.png)"
   ]
  },
  {
   "cell_type": "markdown",
   "metadata": {},
   "source": [
    "## Loading JSON Files"
   ]
  },
  {
   "cell_type": "code",
   "execution_count": 10,
   "metadata": {},
   "outputs": [
    {
     "name": "stderr",
     "output_type": "stream",
     "text": [
      "Warning message:\n",
      "\"package 'rjson' is in use and will not be installed\""
     ]
    }
   ],
   "source": [
    "#Install rjson if you have not already done so.\n",
    "install.packages(\"rjson\")"
   ]
  },
  {
   "cell_type": "code",
   "execution_count": null,
   "metadata": {},
   "outputs": [],
   "source": [
    "#Install RJSONIO if you have not already done so.\n",
    "install.packages(\"RJSONIO\")"
   ]
  },
  {
   "cell_type": "code",
   "execution_count": null,
   "metadata": {},
   "outputs": [],
   "source": [
    "library(RJSONIO)\n",
    "# from the website\n",
    "foodMarketsRaw <- fromJSON(\"https://data.ny.gov/api/views/9a8c-vfzj/rows.json?accessType=DOWNLOAD\")"
   ]
  },
  {
   "cell_type": "code",
   "execution_count": null,
   "metadata": {},
   "outputs": [],
   "source": [
    "foodMarkets <- foodMarketsRaw[['data']]\n",
    "\n",
    "# name the food market 1\n",
    "foodMarkets[[1]][[14]]\n",
    "\n",
    "# name of food market 2\n",
    "foodMarkets[[2]][[14]]\n",
    "\n",
    "fmNames <- sapply(foodMarkets, function(x) x[[14]])\n",
    "head(fmNames)"
   ]
  },
  {
   "cell_type": "code",
   "execution_count": null,
   "metadata": {},
   "outputs": [],
   "source": [
    "#Install gdata if you have not already done so.\n",
    "install.packages(\"gdata\")"
   ]
  },
  {
   "cell_type": "code",
   "execution_count": null,
   "metadata": {},
   "outputs": [],
   "source": [
    "# for the trim function\n",
    "library(gdata)\n",
    "grabInfo <- function(var){\n",
    "  print(paste(\"Variable\", var, sep=\" \"))\n",
    "  sapply(foodMarkets, function(x) returnData(x, var))\n",
    "}\n",
    "\n",
    "returnData <- function(x, var){\n",
    "  if(!is.null( x[[var]])){\n",
    "  \treturn( trim(x[[var]]))\n",
    "  \t}else{\n",
    "  \t\treturn(NA)\n",
    "  \t}\n",
    "  }\n",
    "\n",
    "\n",
    "# do the extraction and assembly\n",
    " fmDataDF <- data.frame(sapply(1:22, grabInfo), stringsAsFactors=FALSE)"
   ]
  },
  {
   "cell_type": "code",
   "execution_count": null,
   "metadata": {},
   "outputs": [],
   "source": [
    "fmDataDF"
   ]
  },
  {
   "cell_type": "code",
   "execution_count": null,
   "metadata": {},
   "outputs": [],
   "source": [
    "foodMarkets[[1]][[23]]"
   ]
  },
  {
   "cell_type": "code",
   "execution_count": null,
   "metadata": {},
   "outputs": [],
   "source": [
    "grabGeoInfo<-function(val){\n",
    "\n",
    "    l<- length(foodMarkets[[1]][[val]])\n",
    "    tmp<-lapply(1:l, function(y) \n",
    "\n",
    "      sapply(foodMarkets, function(x){\n",
    "\n",
    "        if(!is.null(x[[val]][[y]])){\n",
    "          return(x[[val]][[y]])\n",
    "        }else{\n",
    "          return(NA)\n",
    "        }\n",
    "\n",
    "        })     \n",
    "      )\n",
    "}"
   ]
  },
  {
   "cell_type": "code",
   "execution_count": null,
   "metadata": {},
   "outputs": [],
   "source": [
    "# add the names\n",
    "columns<-foodMarketsRaw[['meta']][['view']][['columns']]"
   ]
  },
  {
   "cell_type": "code",
   "execution_count": null,
   "metadata": {},
   "outputs": [],
   "source": [
    "columns"
   ]
  },
  {
   "cell_type": "code",
   "execution_count": null,
   "metadata": {},
   "outputs": [],
   "source": [
    "# extract names for geo and non-geo\n",
    "getNames<-function(x){\n",
    "  if(is.null(columns[[x]]$subColumnTypes)){\n",
    "    return(columns[[x]]$name)\n",
    "  }else{\n",
    "    return(columns[[x]]$subColumnTypes)\n",
    "  }\n",
    "}\n",
    "\n",
    "fmNames<-unlist(sapply(1:length(columns), getNames))"
   ]
  },
  {
   "cell_type": "code",
   "execution_count": null,
   "metadata": {},
   "outputs": [],
   "source": [
    "names(fmDataDF)<-fmNames\n",
    "head(fmDataDF)"
   ]
  },
  {
   "cell_type": "code",
   "execution_count": null,
   "metadata": {},
   "outputs": [],
   "source": [
    "# long lat\n",
    "fmDataDF$latitude<-as.numeric(fmDataDF$latitude)\n",
    "fmDataDF$longitude<-as.numeric(fmDataDF$longitude)"
   ]
  },
  {
   "cell_type": "code",
   "execution_count": null,
   "metadata": {},
   "outputs": [],
   "source": [
    "#Install gdata if you have not already done so. \n",
    "install.packages(\"rgdal\")"
   ]
  },
  {
   "cell_type": "code",
   "execution_count": null,
   "metadata": {},
   "outputs": [],
   "source": []
  }
 ],
 "metadata": {
  "kernelspec": {
   "display_name": "R",
   "language": "R",
   "name": "ir"
  },
  "language_info": {
   "codemirror_mode": "r",
   "file_extension": ".r",
   "mimetype": "text/x-r-source",
   "name": "R",
   "pygments_lexer": "r",
   "version": "3.6.1"
  }
 },
 "nbformat": 4,
 "nbformat_minor": 4
}
