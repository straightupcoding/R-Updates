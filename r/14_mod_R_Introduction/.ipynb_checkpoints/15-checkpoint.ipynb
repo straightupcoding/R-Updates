{
 "cells": [
  {
   "cell_type": "markdown",
   "metadata": {},
   "source": [
    "Data Science Fundamentals: R |\n",
    "[Table of Contents](../index.ipynb)\n",
    "- - - \n",
    "<!--NAVIGATION-->\n",
    "Module 14. [Introduction](./00.ipynb) | [Basic Syntax](./01.ipynb)  | [Data Types](./02.ipynb) | [Variables](./03.ipynb) | [Operators](./04.ipynb) | [Decision Making](./05.ipynb)  | [Functions](./06.ipynb) | [Strings](./07.ipynb) | [Vectors](./08.ipynb) | [Lists](./09.ipynb) | [Matrices](./10.ipynb) | [Arrays](./11.ipynb) | [Factors](./12.ipynb) | [Data Frames](./13.ipynb) | [Data Reshaping](./14.ipynb)  | [Exercises](./15.ipynb)"
   ]
  },
  {
   "cell_type": "markdown",
   "metadata": {},
   "source": [
    "# Module 15: Practice Exercises"
   ]
  },
  {
   "cell_type": "markdown",
   "metadata": {},
   "source": [
    "### [RNA-Sequence Data](https://cran.r-project.org/web/packages/UCSCXenaTools/vignettes/USCSXenaTools.html)\n",
    "\n",
    "### [More RNA-Sequence Data](http://www.liuzlab.org/TCGA2STAT/)"
   ]
  },
  {
   "cell_type": "markdown",
   "metadata": {},
   "source": [
    "## Exercise 1."
   ]
  },
  {
   "cell_type": "markdown",
   "metadata": {},
   "source": [
    "### Creating vectors/factors and dataframes"
   ]
  },
  {
   "cell_type": "markdown",
   "metadata": {},
   "source": [
    "We are performing RNA-Seq on cancer samples being treated with three different types of treatment (A, B, and P). You have 12 samples total, with 4 replicates per treatment. Write the R code you would use to construct your metadata table as described below.\n",
    "\n",
    "- Create the vectors/factors for each column (Hint: you can type out each vector/factor, or if you want the process go faster try exploring the rep() function).\n",
    "- Put them together into a dataframe called meta.\n",
    "- Use the rownames() function to assign row names to the dataframe (Hint: you can type out the row names as a vector, or if you want the process go faster try exploring the paste() function).\n",
    "\n",
    "Your finished metadata table should have information for the variables sex, stage, treatment, and myc levels:"
   ]
  },
  {
   "cell_type": "code",
   "execution_count": 7,
   "metadata": {},
   "outputs": [],
   "source": [
    "#To install magrittr & dplyr libraries among other tools:\n",
    "install.packages(\"tidyverse\")\n",
    "# To Install just magrittr:\n",
    "install.packages(\"magrittr\")"
   ]
  },
  {
   "cell_type": "markdown",
   "metadata": {},
   "source": []
  },
  {
   "cell_type": "markdown",
   "metadata": {},
   "source": [
    "## Exercise 2. "
   ]
  },
  {
   "cell_type": "markdown",
   "metadata": {},
   "source": [
    "### Subsetting vectors/factors and dataframes"
   ]
  },
  {
   "cell_type": "markdown",
   "metadata": {},
   "source": [
    "Using the meta data frame from question #1, write out the R code you would use to perform the following operations (questions DO NOT build upon each other):\n",
    "\n",
    "- return only the treatment and sex columns using []:\n",
    "- return the treatment values for samples 5, 7, 9, and 10 using []:\n",
    "- use filter() to return all data for those samples receiving treatment P:\n",
    "- use filter()/select()to return only the stage and treatment columns for those samples with myc > 5000:\n",
    "- remove the treatment column from the dataset using []:\n",
    "- remove samples 7, 8 and 9 from the dataset using []:\n",
    "- keep only samples 1-6 using []:\n",
    "- add a column called pre_treatment to the beginning of the dataframe with the values T, F, F, F, T, T, F, T, F, F, T, T (Hint: use cbind()):\n",
    "- change the names of the columns to: “A”, “B”, “C”, “D”:\n"
   ]
  },
  {
   "cell_type": "markdown",
   "metadata": {},
   "source": [
    "### [John Hopkins University: Free R Course](https://www.coursera.org/learn/r-programming?specialization=data-science-foundations-r)"
   ]
  },
  {
   "cell_type": "code",
   "execution_count": null,
   "metadata": {},
   "outputs": [],
   "source": []
  }
 ],
 "metadata": {
  "kernelspec": {
   "display_name": "R",
   "language": "R",
   "name": "ir"
  },
  "language_info": {
   "codemirror_mode": "r",
   "file_extension": ".r",
   "mimetype": "text/x-r-source",
   "name": "R",
   "pygments_lexer": "r",
   "version": "3.6.1"
  }
 },
 "nbformat": 4,
 "nbformat_minor": 4
}
